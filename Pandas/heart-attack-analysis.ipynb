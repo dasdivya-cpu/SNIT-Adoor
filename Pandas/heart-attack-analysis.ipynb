{
 "cells": [
  {
   "cell_type": "code",
   "execution_count": 1,
   "id": "214d0d3e-0b37-479d-bd01-d7ce694b1040",
   "metadata": {},
   "outputs": [],
   "source": [
    "import pandas as pd\n",
    "import numpy as np\n",
    "import warnings\n",
    "warnings.filterwarnings('ignore')"
   ]
  },
  {
   "cell_type": "markdown",
   "id": "e8c61824-4b4a-4f0a-be79-f73d51d1a837",
   "metadata": {},
   "source": [
    "## Load the Dataset"
   ]
  },
  {
   "cell_type": "code",
   "execution_count": 2,
   "id": "88798f02-2760-42dd-b5e3-86d3e29da627",
   "metadata": {},
   "outputs": [
    {
     "data": {
      "text/html": [
       "<div>\n",
       "<style scoped>\n",
       "    .dataframe tbody tr th:only-of-type {\n",
       "        vertical-align: middle;\n",
       "    }\n",
       "\n",
       "    .dataframe tbody tr th {\n",
       "        vertical-align: top;\n",
       "    }\n",
       "\n",
       "    .dataframe thead th {\n",
       "        text-align: right;\n",
       "    }\n",
       "</style>\n",
       "<table border=\"1\" class=\"dataframe\">\n",
       "  <thead>\n",
       "    <tr style=\"text-align: right;\">\n",
       "      <th></th>\n",
       "      <th>Age</th>\n",
       "      <th>Gender</th>\n",
       "      <th>Region</th>\n",
       "      <th>Urban/Rural</th>\n",
       "      <th>SES</th>\n",
       "      <th>Smoking Status</th>\n",
       "      <th>Alcohol Consumption</th>\n",
       "      <th>Diet Type</th>\n",
       "      <th>Physical Activity Level</th>\n",
       "      <th>Screen Time (hrs/day)</th>\n",
       "      <th>...</th>\n",
       "      <th>Stress Level</th>\n",
       "      <th>Blood Pressure (systolic/diastolic mmHg)</th>\n",
       "      <th>Resting Heart Rate (bpm)</th>\n",
       "      <th>ECG Results</th>\n",
       "      <th>Chest Pain Type</th>\n",
       "      <th>Maximum Heart Rate Achieved</th>\n",
       "      <th>Exercise Induced Angina</th>\n",
       "      <th>Blood Oxygen Levels (SpO2%)</th>\n",
       "      <th>Triglyceride Levels (mg/dL)</th>\n",
       "      <th>Heart Attack Likelihood</th>\n",
       "    </tr>\n",
       "  </thead>\n",
       "  <tbody>\n",
       "    <tr>\n",
       "      <th>0</th>\n",
       "      <td>30</td>\n",
       "      <td>Male</td>\n",
       "      <td>East</td>\n",
       "      <td>Urban</td>\n",
       "      <td>Middle</td>\n",
       "      <td>Never</td>\n",
       "      <td>Regularly</td>\n",
       "      <td>Non-Vegetarian</td>\n",
       "      <td>Sedentary</td>\n",
       "      <td>3</td>\n",
       "      <td>...</td>\n",
       "      <td>High</td>\n",
       "      <td>177.0/63.1</td>\n",
       "      <td>82</td>\n",
       "      <td>Normal</td>\n",
       "      <td>Non-anginal</td>\n",
       "      <td>183</td>\n",
       "      <td>No</td>\n",
       "      <td>94.1</td>\n",
       "      <td>58</td>\n",
       "      <td>No</td>\n",
       "    </tr>\n",
       "    <tr>\n",
       "      <th>1</th>\n",
       "      <td>24</td>\n",
       "      <td>Female</td>\n",
       "      <td>East</td>\n",
       "      <td>Urban</td>\n",
       "      <td>Low</td>\n",
       "      <td>Occasionally</td>\n",
       "      <td>Occasionally</td>\n",
       "      <td>Non-Vegetarian</td>\n",
       "      <td>Sedentary</td>\n",
       "      <td>15</td>\n",
       "      <td>...</td>\n",
       "      <td>High</td>\n",
       "      <td>137.5/110.7</td>\n",
       "      <td>76</td>\n",
       "      <td>Normal</td>\n",
       "      <td>Non-anginal</td>\n",
       "      <td>118</td>\n",
       "      <td>No</td>\n",
       "      <td>97.1</td>\n",
       "      <td>341</td>\n",
       "      <td>No</td>\n",
       "    </tr>\n",
       "    <tr>\n",
       "      <th>2</th>\n",
       "      <td>24</td>\n",
       "      <td>Female</td>\n",
       "      <td>North</td>\n",
       "      <td>Urban</td>\n",
       "      <td>Low</td>\n",
       "      <td>Occasionally</td>\n",
       "      <td>Occasionally</td>\n",
       "      <td>Vegan</td>\n",
       "      <td>High</td>\n",
       "      <td>15</td>\n",
       "      <td>...</td>\n",
       "      <td>Low</td>\n",
       "      <td>138.3/76.6</td>\n",
       "      <td>86</td>\n",
       "      <td>Normal</td>\n",
       "      <td>Typical</td>\n",
       "      <td>164</td>\n",
       "      <td>No</td>\n",
       "      <td>92.7</td>\n",
       "      <td>373</td>\n",
       "      <td>Yes</td>\n",
       "    </tr>\n",
       "    <tr>\n",
       "      <th>3</th>\n",
       "      <td>27</td>\n",
       "      <td>Male</td>\n",
       "      <td>East</td>\n",
       "      <td>Urban</td>\n",
       "      <td>Middle</td>\n",
       "      <td>Occasionally</td>\n",
       "      <td>Never</td>\n",
       "      <td>Vegetarian</td>\n",
       "      <td>Sedentary</td>\n",
       "      <td>6</td>\n",
       "      <td>...</td>\n",
       "      <td>Medium</td>\n",
       "      <td>177.1/90.0</td>\n",
       "      <td>106</td>\n",
       "      <td>Normal</td>\n",
       "      <td>Non-anginal</td>\n",
       "      <td>188</td>\n",
       "      <td>No</td>\n",
       "      <td>98.4</td>\n",
       "      <td>102</td>\n",
       "      <td>Yes</td>\n",
       "    </tr>\n",
       "    <tr>\n",
       "      <th>4</th>\n",
       "      <td>21</td>\n",
       "      <td>Female</td>\n",
       "      <td>West</td>\n",
       "      <td>Rural</td>\n",
       "      <td>Low</td>\n",
       "      <td>Occasionally</td>\n",
       "      <td>Occasionally</td>\n",
       "      <td>Vegetarian</td>\n",
       "      <td>Moderate</td>\n",
       "      <td>4</td>\n",
       "      <td>...</td>\n",
       "      <td>Low</td>\n",
       "      <td>130.7/108.8</td>\n",
       "      <td>73</td>\n",
       "      <td>Normal</td>\n",
       "      <td>Atypical</td>\n",
       "      <td>216</td>\n",
       "      <td>No</td>\n",
       "      <td>94.9</td>\n",
       "      <td>235</td>\n",
       "      <td>No</td>\n",
       "    </tr>\n",
       "  </tbody>\n",
       "</table>\n",
       "<p>5 rows × 26 columns</p>\n",
       "</div>"
      ],
      "text/plain": [
       "   Age  Gender Region Urban/Rural     SES Smoking Status Alcohol Consumption  \\\n",
       "0   30    Male   East       Urban  Middle          Never           Regularly   \n",
       "1   24  Female   East       Urban     Low   Occasionally        Occasionally   \n",
       "2   24  Female  North       Urban     Low   Occasionally        Occasionally   \n",
       "3   27    Male   East       Urban  Middle   Occasionally               Never   \n",
       "4   21  Female   West       Rural     Low   Occasionally        Occasionally   \n",
       "\n",
       "        Diet Type Physical Activity Level  Screen Time (hrs/day)  ...  \\\n",
       "0  Non-Vegetarian               Sedentary                      3  ...   \n",
       "1  Non-Vegetarian               Sedentary                     15  ...   \n",
       "2           Vegan                    High                     15  ...   \n",
       "3      Vegetarian               Sedentary                      6  ...   \n",
       "4      Vegetarian                Moderate                      4  ...   \n",
       "\n",
       "   Stress Level Blood Pressure (systolic/diastolic mmHg)  \\\n",
       "0          High                               177.0/63.1   \n",
       "1          High                              137.5/110.7   \n",
       "2           Low                               138.3/76.6   \n",
       "3        Medium                               177.1/90.0   \n",
       "4           Low                              130.7/108.8   \n",
       "\n",
       "  Resting Heart Rate (bpm) ECG Results  Chest Pain Type  \\\n",
       "0                       82      Normal      Non-anginal   \n",
       "1                       76      Normal      Non-anginal   \n",
       "2                       86      Normal          Typical   \n",
       "3                      106      Normal      Non-anginal   \n",
       "4                       73      Normal         Atypical   \n",
       "\n",
       "   Maximum Heart Rate Achieved Exercise Induced Angina  \\\n",
       "0                          183                      No   \n",
       "1                          118                      No   \n",
       "2                          164                      No   \n",
       "3                          188                      No   \n",
       "4                          216                      No   \n",
       "\n",
       "  Blood Oxygen Levels (SpO2%)  Triglyceride Levels (mg/dL)  \\\n",
       "0                        94.1                           58   \n",
       "1                        97.1                          341   \n",
       "2                        92.7                          373   \n",
       "3                        98.4                          102   \n",
       "4                        94.9                          235   \n",
       "\n",
       "  Heart Attack Likelihood  \n",
       "0                      No  \n",
       "1                      No  \n",
       "2                     Yes  \n",
       "3                     Yes  \n",
       "4                      No  \n",
       "\n",
       "[5 rows x 26 columns]"
      ]
     },
     "execution_count": 2,
     "metadata": {},
     "output_type": "execute_result"
    }
   ],
   "source": [
    "data = pd.read_csv(\"heart.csv\")\n",
    "data.head() "
   ]
  },
  {
   "cell_type": "markdown",
   "id": "27e14670-f52a-4b4a-b1d2-ee1351ed5441",
   "metadata": {},
   "source": [
    " ## Determining dimension and size of the dataset."
   ]
  },
  {
   "cell_type": "code",
   "execution_count": 3,
   "id": "b41fc00e-55d7-4ecd-9aa6-c3e581bc01a5",
   "metadata": {},
   "outputs": [
    {
     "name": "stdout",
     "output_type": "stream",
     "text": [
      "Dimension of the dataset is: (10000, 26)\n"
     ]
    }
   ],
   "source": [
    "print (\"Dimension of the dataset is:\",data.shape) "
   ]
  },
  {
   "cell_type": "code",
   "execution_count": 4,
   "id": "9cd1863f-deee-433c-82b8-a381aae91d35",
   "metadata": {},
   "outputs": [
    {
     "name": "stdout",
     "output_type": "stream",
     "text": [
      "Size of the dataset is:  260000\n"
     ]
    }
   ],
   "source": [
    "print (\"Size of the dataset is: \",data.size)"
   ]
  },
  {
   "cell_type": "markdown",
   "id": "6927df6f-d62b-413e-8433-9dc823612d16",
   "metadata": {},
   "source": [
    "##  Determining columns of the dataset."
   ]
  },
  {
   "cell_type": "code",
   "execution_count": 16,
   "id": "c550f24e-ad4e-4433-8ece-5d11114860fd",
   "metadata": {},
   "outputs": [
    {
     "name": "stdout",
     "output_type": "stream",
     "text": [
      "Columns in the dataset are:\n",
      " Index(['Age', 'Gender', 'Region', 'Urban/Rural', 'SES', 'Smoking Status',\n",
      "       'Alcohol Consumption', 'Diet Type', 'Physical Activity Level',\n",
      "       'Screen Time (hrs/day)', 'Sleep Duration (hrs/day)',\n",
      "       'Family History of Heart Disease', 'Diabetes', 'Hypertension',\n",
      "       'Cholesterol Levels (mg/dL)', 'BMI (kg/m²)', 'Stress Level',\n",
      "       'Blood Pressure (systolic/diastolic mmHg)', 'Resting Heart Rate (bpm)',\n",
      "       'ECG Results', 'Chest Pain Type', 'Maximum Heart Rate Achieved',\n",
      "       'Exercise Induced Angina', 'Blood Oxygen Levels (SpO2%)',\n",
      "       'Triglyceride Levels (mg/dL)', 'Heart Attack Likelihood'],\n",
      "      dtype='object')\n"
     ]
    }
   ],
   "source": [
    "print (\"Columns in the dataset are:\\n\", data.keys()) "
   ]
  },
  {
   "cell_type": "code",
   "execution_count": 17,
   "id": "88658ccd-d9e0-4f0c-a6a9-5f828fa73bf4",
   "metadata": {},
   "outputs": [
    {
     "name": "stdout",
     "output_type": "stream",
     "text": [
      "Columns in the dataset are:\n",
      " Index(['Age', 'Gender', 'Region', 'Urban/Rural', 'SES', 'Smoking Status',\n",
      "       'Alcohol Consumption', 'Diet Type', 'Physical Activity Level',\n",
      "       'Screen Time (hrs/day)', 'Sleep Duration (hrs/day)',\n",
      "       'Family History of Heart Disease', 'Diabetes', 'Hypertension',\n",
      "       'Cholesterol Levels (mg/dL)', 'BMI (kg/m²)', 'Stress Level',\n",
      "       'Blood Pressure (systolic/diastolic mmHg)', 'Resting Heart Rate (bpm)',\n",
      "       'ECG Results', 'Chest Pain Type', 'Maximum Heart Rate Achieved',\n",
      "       'Exercise Induced Angina', 'Blood Oxygen Levels (SpO2%)',\n",
      "       'Triglyceride Levels (mg/dL)', 'Heart Attack Likelihood'],\n",
      "      dtype='object')\n"
     ]
    }
   ],
   "source": [
    "print (\"Columns in the dataset are:\\n\", data.columns)"
   ]
  },
  {
   "cell_type": "markdown",
   "id": "9d772e79-1d59-446d-b5aa-41070431d4fc",
   "metadata": {},
   "source": [
    "## Data Cleaning"
   ]
  },
  {
   "cell_type": "code",
   "execution_count": 5,
   "id": "d53d78b1-2238-4627-8a1a-5793c0f794e6",
   "metadata": {},
   "outputs": [],
   "source": [
    "data.columns=data.columns.str.replace(\".\",\"_\") #here we've replaced \".\" by \"_\" should use str before function to use string functions in pandas\n",
    "data.columns=data.columns.str.replace(\"/\",\"_\") #here we've replaced \"/\" by \"_\" \n",
    "data.columns=data.columns.str.replace(\" \",\"_\") #here we replaced \" \" by \"_\" "
   ]
  },
  {
   "cell_type": "markdown",
   "id": "7fb87f3a-e447-40c4-8b45-d1d662e6a44c",
   "metadata": {},
   "source": [
    "### Functions of Data Frame\n",
    "### The Pandas library provides many functions with respect to a data frame.\n",
    "### These functions are related to: basic functions related to information of \n",
    "### the data frame like  describe(), info() etc"
   ]
  },
  {
   "cell_type": "code",
   "execution_count": 6,
   "id": "0c7c5944-fc71-4efb-8a85-3eea4fad4b15",
   "metadata": {},
   "outputs": [
    {
     "name": "stdout",
     "output_type": "stream",
     "text": [
      "<class 'pandas.core.frame.DataFrame'>\n",
      "RangeIndex: 10000 entries, 0 to 9999\n",
      "Data columns (total 26 columns):\n",
      " #   Column                                    Non-Null Count  Dtype  \n",
      "---  ------                                    --------------  -----  \n",
      " 0   Age                                       10000 non-null  int64  \n",
      " 1   Gender                                    10000 non-null  object \n",
      " 2   Region                                    10000 non-null  object \n",
      " 3   Urban_Rural                               10000 non-null  object \n",
      " 4   SES                                       10000 non-null  object \n",
      " 5   Smoking_Status                            10000 non-null  object \n",
      " 6   Alcohol_Consumption                       10000 non-null  object \n",
      " 7   Diet_Type                                 10000 non-null  object \n",
      " 8   Physical_Activity_Level                   10000 non-null  object \n",
      " 9   Screen_Time_(hrs_day)                     10000 non-null  int64  \n",
      " 10  Sleep_Duration_(hrs_day)                  10000 non-null  int64  \n",
      " 11  Family_History_of_Heart_Disease           10000 non-null  object \n",
      " 12  Diabetes                                  10000 non-null  object \n",
      " 13  Hypertension                              10000 non-null  object \n",
      " 14  Cholesterol_Levels_(mg_dL)                10000 non-null  int64  \n",
      " 15  BMI_(kg_m²)                               10000 non-null  float64\n",
      " 16  Stress_Level                              10000 non-null  object \n",
      " 17  Blood_Pressure_(systolic_diastolic_mmHg)  10000 non-null  object \n",
      " 18  Resting_Heart_Rate_(bpm)                  10000 non-null  int64  \n",
      " 19  ECG_Results                               10000 non-null  object \n",
      " 20  Chest_Pain_Type                           10000 non-null  object \n",
      " 21  Maximum_Heart_Rate_Achieved               10000 non-null  int64  \n",
      " 22  Exercise_Induced_Angina                   10000 non-null  object \n",
      " 23  Blood_Oxygen_Levels_(SpO2%)               10000 non-null  float64\n",
      " 24  Triglyceride_Levels_(mg_dL)               10000 non-null  int64  \n",
      " 25  Heart_Attack_Likelihood                   10000 non-null  object \n",
      "dtypes: float64(2), int64(7), object(17)\n",
      "memory usage: 2.0+ MB\n"
     ]
    }
   ],
   "source": [
    "data.info()"
   ]
  },
  {
   "cell_type": "code",
   "execution_count": 7,
   "id": "81bc20d0-1a3b-4662-83d4-8d9ab0aa3a39",
   "metadata": {},
   "outputs": [
    {
     "data": {
      "text/html": [
       "<div>\n",
       "<style scoped>\n",
       "    .dataframe tbody tr th:only-of-type {\n",
       "        vertical-align: middle;\n",
       "    }\n",
       "\n",
       "    .dataframe tbody tr th {\n",
       "        vertical-align: top;\n",
       "    }\n",
       "\n",
       "    .dataframe thead th {\n",
       "        text-align: right;\n",
       "    }\n",
       "</style>\n",
       "<table border=\"1\" class=\"dataframe\">\n",
       "  <thead>\n",
       "    <tr style=\"text-align: right;\">\n",
       "      <th></th>\n",
       "      <th>Age</th>\n",
       "      <th>Screen_Time_(hrs_day)</th>\n",
       "      <th>Sleep_Duration_(hrs_day)</th>\n",
       "      <th>Cholesterol_Levels_(mg_dL)</th>\n",
       "      <th>BMI_(kg_m²)</th>\n",
       "      <th>Resting_Heart_Rate_(bpm)</th>\n",
       "      <th>Maximum_Heart_Rate_Achieved</th>\n",
       "      <th>Blood_Oxygen_Levels_(SpO2%)</th>\n",
       "      <th>Triglyceride_Levels_(mg_dL)</th>\n",
       "    </tr>\n",
       "  </thead>\n",
       "  <tbody>\n",
       "    <tr>\n",
       "      <th>count</th>\n",
       "      <td>10000.000000</td>\n",
       "      <td>10000.000000</td>\n",
       "      <td>10000.000000</td>\n",
       "      <td>10000.000000</td>\n",
       "      <td>10000.00000</td>\n",
       "      <td>10000.000000</td>\n",
       "      <td>10000.000000</td>\n",
       "      <td>10000.000000</td>\n",
       "      <td>10000.000000</td>\n",
       "    </tr>\n",
       "    <tr>\n",
       "      <th>mean</th>\n",
       "      <td>26.601500</td>\n",
       "      <td>7.510700</td>\n",
       "      <td>6.489600</td>\n",
       "      <td>199.649000</td>\n",
       "      <td>27.44190</td>\n",
       "      <td>89.493400</td>\n",
       "      <td>159.683900</td>\n",
       "      <td>94.940730</td>\n",
       "      <td>275.010100</td>\n",
       "    </tr>\n",
       "    <tr>\n",
       "      <th>std</th>\n",
       "      <td>5.164239</td>\n",
       "      <td>4.626578</td>\n",
       "      <td>2.289327</td>\n",
       "      <td>57.561902</td>\n",
       "      <td>7.22374</td>\n",
       "      <td>17.318237</td>\n",
       "      <td>35.034037</td>\n",
       "      <td>2.883329</td>\n",
       "      <td>128.825994</td>\n",
       "    </tr>\n",
       "    <tr>\n",
       "      <th>min</th>\n",
       "      <td>18.000000</td>\n",
       "      <td>0.000000</td>\n",
       "      <td>3.000000</td>\n",
       "      <td>100.000000</td>\n",
       "      <td>15.00000</td>\n",
       "      <td>60.000000</td>\n",
       "      <td>100.000000</td>\n",
       "      <td>90.000000</td>\n",
       "      <td>50.000000</td>\n",
       "    </tr>\n",
       "    <tr>\n",
       "      <th>25%</th>\n",
       "      <td>22.000000</td>\n",
       "      <td>4.000000</td>\n",
       "      <td>4.000000</td>\n",
       "      <td>150.000000</td>\n",
       "      <td>21.20000</td>\n",
       "      <td>74.000000</td>\n",
       "      <td>129.000000</td>\n",
       "      <td>92.400000</td>\n",
       "      <td>164.000000</td>\n",
       "    </tr>\n",
       "    <tr>\n",
       "      <th>50%</th>\n",
       "      <td>27.000000</td>\n",
       "      <td>8.000000</td>\n",
       "      <td>6.000000</td>\n",
       "      <td>199.000000</td>\n",
       "      <td>27.50000</td>\n",
       "      <td>90.000000</td>\n",
       "      <td>160.000000</td>\n",
       "      <td>94.900000</td>\n",
       "      <td>277.000000</td>\n",
       "    </tr>\n",
       "    <tr>\n",
       "      <th>75%</th>\n",
       "      <td>31.000000</td>\n",
       "      <td>12.000000</td>\n",
       "      <td>8.000000</td>\n",
       "      <td>249.000000</td>\n",
       "      <td>33.70000</td>\n",
       "      <td>104.000000</td>\n",
       "      <td>190.000000</td>\n",
       "      <td>97.400000</td>\n",
       "      <td>385.000000</td>\n",
       "    </tr>\n",
       "    <tr>\n",
       "      <th>max</th>\n",
       "      <td>35.000000</td>\n",
       "      <td>15.000000</td>\n",
       "      <td>10.000000</td>\n",
       "      <td>300.000000</td>\n",
       "      <td>40.00000</td>\n",
       "      <td>119.000000</td>\n",
       "      <td>220.000000</td>\n",
       "      <td>100.000000</td>\n",
       "      <td>500.000000</td>\n",
       "    </tr>\n",
       "  </tbody>\n",
       "</table>\n",
       "</div>"
      ],
      "text/plain": [
       "                Age  Screen_Time_(hrs_day)  Sleep_Duration_(hrs_day)  \\\n",
       "count  10000.000000           10000.000000              10000.000000   \n",
       "mean      26.601500               7.510700                  6.489600   \n",
       "std        5.164239               4.626578                  2.289327   \n",
       "min       18.000000               0.000000                  3.000000   \n",
       "25%       22.000000               4.000000                  4.000000   \n",
       "50%       27.000000               8.000000                  6.000000   \n",
       "75%       31.000000              12.000000                  8.000000   \n",
       "max       35.000000              15.000000                 10.000000   \n",
       "\n",
       "       Cholesterol_Levels_(mg_dL)  BMI_(kg_m²)  Resting_Heart_Rate_(bpm)  \\\n",
       "count                10000.000000  10000.00000              10000.000000   \n",
       "mean                   199.649000     27.44190                 89.493400   \n",
       "std                     57.561902      7.22374                 17.318237   \n",
       "min                    100.000000     15.00000                 60.000000   \n",
       "25%                    150.000000     21.20000                 74.000000   \n",
       "50%                    199.000000     27.50000                 90.000000   \n",
       "75%                    249.000000     33.70000                104.000000   \n",
       "max                    300.000000     40.00000                119.000000   \n",
       "\n",
       "       Maximum_Heart_Rate_Achieved  Blood_Oxygen_Levels_(SpO2%)  \\\n",
       "count                 10000.000000                 10000.000000   \n",
       "mean                    159.683900                    94.940730   \n",
       "std                      35.034037                     2.883329   \n",
       "min                     100.000000                    90.000000   \n",
       "25%                     129.000000                    92.400000   \n",
       "50%                     160.000000                    94.900000   \n",
       "75%                     190.000000                    97.400000   \n",
       "max                     220.000000                   100.000000   \n",
       "\n",
       "       Triglyceride_Levels_(mg_dL)  \n",
       "count                 10000.000000  \n",
       "mean                    275.010100  \n",
       "std                     128.825994  \n",
       "min                      50.000000  \n",
       "25%                     164.000000  \n",
       "50%                     277.000000  \n",
       "75%                     385.000000  \n",
       "max                     500.000000  "
      ]
     },
     "execution_count": 7,
     "metadata": {},
     "output_type": "execute_result"
    }
   ],
   "source": [
    "data.describe()"
   ]
  },
  {
   "cell_type": "markdown",
   "id": "23ed15a4-5635-49d6-a380-804c8818db93",
   "metadata": {},
   "source": [
    "## Check the Presence of Null values"
   ]
  },
  {
   "cell_type": "code",
   "execution_count": 8,
   "id": "9be33930-3b14-4bc1-a023-539ec5aa7839",
   "metadata": {},
   "outputs": [
    {
     "data": {
      "text/plain": [
       "Age                                         0\n",
       "Gender                                      0\n",
       "Region                                      0\n",
       "Urban_Rural                                 0\n",
       "SES                                         0\n",
       "Smoking_Status                              0\n",
       "Alcohol_Consumption                         0\n",
       "Diet_Type                                   0\n",
       "Physical_Activity_Level                     0\n",
       "Screen_Time_(hrs_day)                       0\n",
       "Sleep_Duration_(hrs_day)                    0\n",
       "Family_History_of_Heart_Disease             0\n",
       "Diabetes                                    0\n",
       "Hypertension                                0\n",
       "Cholesterol_Levels_(mg_dL)                  0\n",
       "BMI_(kg_m²)                                 0\n",
       "Stress_Level                                0\n",
       "Blood_Pressure_(systolic_diastolic_mmHg)    0\n",
       "Resting_Heart_Rate_(bpm)                    0\n",
       "ECG_Results                                 0\n",
       "Chest_Pain_Type                             0\n",
       "Maximum_Heart_Rate_Achieved                 0\n",
       "Exercise_Induced_Angina                     0\n",
       "Blood_Oxygen_Levels_(SpO2%)                 0\n",
       "Triglyceride_Levels_(mg_dL)                 0\n",
       "Heart_Attack_Likelihood                     0\n",
       "dtype: int64"
      ]
     },
     "execution_count": 8,
     "metadata": {},
     "output_type": "execute_result"
    }
   ],
   "source": [
    "data.isnull().sum()"
   ]
  },
  {
   "cell_type": "markdown",
   "id": "c2dc9c20-86d9-4b2e-b8ae-bf88496a859f",
   "metadata": {},
   "source": [
    "## Determine number of records based on gender."
   ]
  },
  {
   "cell_type": "code",
   "execution_count": 9,
   "id": "e6ce9fd0-d9ca-4723-9789-a908dffeb1d2",
   "metadata": {},
   "outputs": [
    {
     "name": "stdout",
     "output_type": "stream",
     "text": [
      "Number of records for gender: \n",
      " Gender\n",
      "Male      4913\n",
      "Female    4856\n",
      "Other      231\n",
      "Name: count, dtype: int64\n"
     ]
    }
   ],
   "source": [
    "print (\"Number of records for gender: \\n\",data['Gender'].value_counts())"
   ]
  },
  {
   "cell_type": "markdown",
   "id": "ee7ba535-1d64-4915-a800-78a154ec899e",
   "metadata": {},
   "source": [
    "## Data Extraction"
   ]
  },
  {
   "cell_type": "code",
   "execution_count": 10,
   "id": "93bfba01-7c12-46f0-a400-85df2e362b8d",
   "metadata": {},
   "outputs": [],
   "source": [
    "male_records=data[data['Gender']=='Male']"
   ]
  },
  {
   "cell_type": "code",
   "execution_count": 11,
   "id": "f3748724-55ac-495d-953b-e08d3de45a4a",
   "metadata": {},
   "outputs": [],
   "source": [
    "female_records=data[data['Gender']=='Female']"
   ]
  },
  {
   "cell_type": "markdown",
   "id": "75ca5ad5-23ad-415f-a3a9-32e69acd2195",
   "metadata": {},
   "source": [
    "## Male having heart attacks"
   ]
  },
  {
   "cell_type": "code",
   "execution_count": 12,
   "id": "c449338c-2be6-4499-8152-4a6e47e3df35",
   "metadata": {},
   "outputs": [
    {
     "data": {
      "text/html": [
       "<div>\n",
       "<style scoped>\n",
       "    .dataframe tbody tr th:only-of-type {\n",
       "        vertical-align: middle;\n",
       "    }\n",
       "\n",
       "    .dataframe tbody tr th {\n",
       "        vertical-align: top;\n",
       "    }\n",
       "\n",
       "    .dataframe thead th {\n",
       "        text-align: right;\n",
       "    }\n",
       "</style>\n",
       "<table border=\"1\" class=\"dataframe\">\n",
       "  <thead>\n",
       "    <tr style=\"text-align: right;\">\n",
       "      <th></th>\n",
       "      <th>Age</th>\n",
       "      <th>Gender</th>\n",
       "      <th>Region</th>\n",
       "      <th>Urban_Rural</th>\n",
       "      <th>SES</th>\n",
       "      <th>Smoking_Status</th>\n",
       "      <th>Alcohol_Consumption</th>\n",
       "      <th>Diet_Type</th>\n",
       "      <th>Physical_Activity_Level</th>\n",
       "      <th>Screen_Time_(hrs_day)</th>\n",
       "      <th>...</th>\n",
       "      <th>Stress_Level</th>\n",
       "      <th>Blood_Pressure_(systolic_diastolic_mmHg)</th>\n",
       "      <th>Resting_Heart_Rate_(bpm)</th>\n",
       "      <th>ECG_Results</th>\n",
       "      <th>Chest_Pain_Type</th>\n",
       "      <th>Maximum_Heart_Rate_Achieved</th>\n",
       "      <th>Exercise_Induced_Angina</th>\n",
       "      <th>Blood_Oxygen_Levels_(SpO2%)</th>\n",
       "      <th>Triglyceride_Levels_(mg_dL)</th>\n",
       "      <th>Heart_Attack_Likelihood</th>\n",
       "    </tr>\n",
       "  </thead>\n",
       "  <tbody>\n",
       "    <tr>\n",
       "      <th>0</th>\n",
       "      <td>30</td>\n",
       "      <td>Male</td>\n",
       "      <td>East</td>\n",
       "      <td>Urban</td>\n",
       "      <td>Middle</td>\n",
       "      <td>Never</td>\n",
       "      <td>Regularly</td>\n",
       "      <td>Non-Vegetarian</td>\n",
       "      <td>Sedentary</td>\n",
       "      <td>3</td>\n",
       "      <td>...</td>\n",
       "      <td>High</td>\n",
       "      <td>177.0/63.1</td>\n",
       "      <td>82</td>\n",
       "      <td>Normal</td>\n",
       "      <td>Non-anginal</td>\n",
       "      <td>183</td>\n",
       "      <td>No</td>\n",
       "      <td>94.1</td>\n",
       "      <td>58</td>\n",
       "      <td>No</td>\n",
       "    </tr>\n",
       "    <tr>\n",
       "      <th>3</th>\n",
       "      <td>27</td>\n",
       "      <td>Male</td>\n",
       "      <td>East</td>\n",
       "      <td>Urban</td>\n",
       "      <td>Middle</td>\n",
       "      <td>Occasionally</td>\n",
       "      <td>Never</td>\n",
       "      <td>Vegetarian</td>\n",
       "      <td>Sedentary</td>\n",
       "      <td>6</td>\n",
       "      <td>...</td>\n",
       "      <td>Medium</td>\n",
       "      <td>177.1/90.0</td>\n",
       "      <td>106</td>\n",
       "      <td>Normal</td>\n",
       "      <td>Non-anginal</td>\n",
       "      <td>188</td>\n",
       "      <td>No</td>\n",
       "      <td>98.4</td>\n",
       "      <td>102</td>\n",
       "      <td>Yes</td>\n",
       "    </tr>\n",
       "    <tr>\n",
       "      <th>5</th>\n",
       "      <td>20</td>\n",
       "      <td>Male</td>\n",
       "      <td>West</td>\n",
       "      <td>Rural</td>\n",
       "      <td>Middle</td>\n",
       "      <td>Never</td>\n",
       "      <td>Never</td>\n",
       "      <td>Non-Vegetarian</td>\n",
       "      <td>High</td>\n",
       "      <td>2</td>\n",
       "      <td>...</td>\n",
       "      <td>High</td>\n",
       "      <td>171.5/107.1</td>\n",
       "      <td>115</td>\n",
       "      <td>Normal</td>\n",
       "      <td>Atypical</td>\n",
       "      <td>142</td>\n",
       "      <td>No</td>\n",
       "      <td>93.0</td>\n",
       "      <td>129</td>\n",
       "      <td>No</td>\n",
       "    </tr>\n",
       "    <tr>\n",
       "      <th>6</th>\n",
       "      <td>29</td>\n",
       "      <td>Male</td>\n",
       "      <td>East</td>\n",
       "      <td>Rural</td>\n",
       "      <td>High</td>\n",
       "      <td>Regularly</td>\n",
       "      <td>Never</td>\n",
       "      <td>Non-Vegetarian</td>\n",
       "      <td>Moderate</td>\n",
       "      <td>8</td>\n",
       "      <td>...</td>\n",
       "      <td>Low</td>\n",
       "      <td>176.7/110.0</td>\n",
       "      <td>118</td>\n",
       "      <td>Normal</td>\n",
       "      <td>Non-anginal</td>\n",
       "      <td>181</td>\n",
       "      <td>No</td>\n",
       "      <td>93.4</td>\n",
       "      <td>444</td>\n",
       "      <td>No</td>\n",
       "    </tr>\n",
       "    <tr>\n",
       "      <th>9</th>\n",
       "      <td>35</td>\n",
       "      <td>Male</td>\n",
       "      <td>West</td>\n",
       "      <td>Urban</td>\n",
       "      <td>High</td>\n",
       "      <td>Occasionally</td>\n",
       "      <td>Never</td>\n",
       "      <td>Non-Vegetarian</td>\n",
       "      <td>Sedentary</td>\n",
       "      <td>12</td>\n",
       "      <td>...</td>\n",
       "      <td>High</td>\n",
       "      <td>140.5/106.1</td>\n",
       "      <td>110</td>\n",
       "      <td>Normal</td>\n",
       "      <td>Asymptomatic</td>\n",
       "      <td>141</td>\n",
       "      <td>No</td>\n",
       "      <td>97.1</td>\n",
       "      <td>297</td>\n",
       "      <td>No</td>\n",
       "    </tr>\n",
       "  </tbody>\n",
       "</table>\n",
       "<p>5 rows × 26 columns</p>\n",
       "</div>"
      ],
      "text/plain": [
       "   Age Gender Region Urban_Rural     SES Smoking_Status Alcohol_Consumption  \\\n",
       "0   30   Male   East       Urban  Middle          Never           Regularly   \n",
       "3   27   Male   East       Urban  Middle   Occasionally               Never   \n",
       "5   20   Male   West       Rural  Middle          Never               Never   \n",
       "6   29   Male   East       Rural    High      Regularly               Never   \n",
       "9   35   Male   West       Urban    High   Occasionally               Never   \n",
       "\n",
       "        Diet_Type Physical_Activity_Level  Screen_Time_(hrs_day)  ...  \\\n",
       "0  Non-Vegetarian               Sedentary                      3  ...   \n",
       "3      Vegetarian               Sedentary                      6  ...   \n",
       "5  Non-Vegetarian                    High                      2  ...   \n",
       "6  Non-Vegetarian                Moderate                      8  ...   \n",
       "9  Non-Vegetarian               Sedentary                     12  ...   \n",
       "\n",
       "   Stress_Level Blood_Pressure_(systolic_diastolic_mmHg)  \\\n",
       "0          High                               177.0/63.1   \n",
       "3        Medium                               177.1/90.0   \n",
       "5          High                              171.5/107.1   \n",
       "6           Low                              176.7/110.0   \n",
       "9          High                              140.5/106.1   \n",
       "\n",
       "  Resting_Heart_Rate_(bpm) ECG_Results  Chest_Pain_Type  \\\n",
       "0                       82      Normal      Non-anginal   \n",
       "3                      106      Normal      Non-anginal   \n",
       "5                      115      Normal         Atypical   \n",
       "6                      118      Normal      Non-anginal   \n",
       "9                      110      Normal     Asymptomatic   \n",
       "\n",
       "   Maximum_Heart_Rate_Achieved Exercise_Induced_Angina  \\\n",
       "0                          183                      No   \n",
       "3                          188                      No   \n",
       "5                          142                      No   \n",
       "6                          181                      No   \n",
       "9                          141                      No   \n",
       "\n",
       "  Blood_Oxygen_Levels_(SpO2%)  Triglyceride_Levels_(mg_dL)  \\\n",
       "0                        94.1                           58   \n",
       "3                        98.4                          102   \n",
       "5                        93.0                          129   \n",
       "6                        93.4                          444   \n",
       "9                        97.1                          297   \n",
       "\n",
       "  Heart_Attack_Likelihood  \n",
       "0                      No  \n",
       "3                     Yes  \n",
       "5                      No  \n",
       "6                      No  \n",
       "9                      No  \n",
       "\n",
       "[5 rows x 26 columns]"
      ]
     },
     "execution_count": 12,
     "metadata": {},
     "output_type": "execute_result"
    }
   ],
   "source": [
    "male_records.head()"
   ]
  },
  {
   "cell_type": "code",
   "execution_count": 13,
   "id": "b5a22752-3534-4137-9e46-5f3bae2e845e",
   "metadata": {},
   "outputs": [
    {
     "data": {
      "text/plain": [
       "Heart_Attack_Likelihood\n",
       "No     3865\n",
       "Yes    1048\n",
       "Name: count, dtype: int64"
      ]
     },
     "execution_count": 13,
     "metadata": {},
     "output_type": "execute_result"
    }
   ],
   "source": [
    "male_records['Heart_Attack_Likelihood'].value_counts()"
   ]
  },
  {
   "cell_type": "code",
   "execution_count": 14,
   "id": "638e9a65-bbda-453d-8c14-e0cf95230b10",
   "metadata": {},
   "outputs": [
    {
     "data": {
      "text/plain": [
       "Heart_Attack_Likelihood\n",
       "No     3910\n",
       "Yes     946\n",
       "Name: count, dtype: int64"
      ]
     },
     "execution_count": 14,
     "metadata": {},
     "output_type": "execute_result"
    }
   ],
   "source": [
    "female_records['Heart_Attack_Likelihood'].value_counts()"
   ]
  },
  {
   "cell_type": "markdown",
   "id": "a99a61d7-e215-4c25-82f7-558c69576190",
   "metadata": {},
   "source": [
    "## Statistical Functions"
   ]
  },
  {
   "cell_type": "code",
   "execution_count": 15,
   "id": "aaa9a310-09d9-4f2f-b2f2-d51f288000a6",
   "metadata": {},
   "outputs": [
    {
     "data": {
      "text/plain": [
       "np.float64(200.2178747940692)"
      ]
     },
     "execution_count": 15,
     "metadata": {},
     "output_type": "execute_result"
    }
   ],
   "source": [
    "female_records['Cholesterol_Levels_(mg_dL)'].mean()"
   ]
  },
  {
   "cell_type": "code",
   "execution_count": 16,
   "id": "bb8f4961-9d8d-431e-925c-fc380c281218",
   "metadata": {},
   "outputs": [
    {
     "data": {
      "text/plain": [
       "np.int64(100)"
      ]
     },
     "execution_count": 16,
     "metadata": {},
     "output_type": "execute_result"
    }
   ],
   "source": [
    "female_records['Cholesterol_Levels_(mg_dL)'].min()"
   ]
  },
  {
   "cell_type": "code",
   "execution_count": 17,
   "id": "12ab96af-88b9-406e-b25a-82943ad0b9af",
   "metadata": {},
   "outputs": [
    {
     "data": {
      "text/plain": [
       "np.int64(300)"
      ]
     },
     "execution_count": 17,
     "metadata": {},
     "output_type": "execute_result"
    }
   ],
   "source": [
    "female_records['Cholesterol_Levels_(mg_dL)'].max()"
   ]
  },
  {
   "cell_type": "markdown",
   "id": "d9d9f482-c772-4b2e-9d00-264c7b37adcd",
   "metadata": {},
   "source": [
    "## Arranging the Data"
   ]
  },
  {
   "cell_type": "code",
   "execution_count": 36,
   "id": "c4035008-bac7-4538-905e-4a9d8b25002c",
   "metadata": {
    "collapsed": true,
    "jupyter": {
     "outputs_hidden": true
    }
   },
   "outputs": [
    {
     "name": "stdout",
     "output_type": "stream",
     "text": [
      "Top two records based on descending order for Cholestrol are:\n",
      "       Age  Gender Region Urban_Rural  SES Smoking_Status Alcohol_Consumption  \\\n",
      "2443   19  Female  South       Urban  Low      Regularly               Never   \n",
      "7191   21  Female   East       Urban  Low   Occasionally               Never   \n",
      "\n",
      "           Diet_Type Physical_Activity_Level  Screen_Time_(hrs_day)  ...  \\\n",
      "2443  Non-Vegetarian               Sedentary                      1  ...   \n",
      "7191      Vegetarian                Moderate                     12  ...   \n",
      "\n",
      "      Stress_Level Blood_Pressure_(systolic_diastolic_mmHg)  \\\n",
      "2443        Medium                               167.2/65.1   \n",
      "7191        Medium                               147.0/85.5   \n",
      "\n",
      "     Resting_Heart_Rate_(bpm) ECG_Results  Chest_Pain_Type  \\\n",
      "2443                      108      Normal          Typical   \n",
      "7191                      114    Abnormal     Asymptomatic   \n",
      "\n",
      "      Maximum_Heart_Rate_Achieved Exercise_Induced_Angina  \\\n",
      "2443                          170                      No   \n",
      "7191                          121                      No   \n",
      "\n",
      "     Blood_Oxygen_Levels_(SpO2%)  Triglyceride_Levels_(mg_dL)  \\\n",
      "2443                        91.3                          446   \n",
      "7191                        99.6                          281   \n",
      "\n",
      "     Heart_Attack_Likelihood  \n",
      "2443                      No  \n",
      "7191                      No  \n",
      "\n",
      "[2 rows x 26 columns]\n"
     ]
    }
   ],
   "source": [
    "print (\"Top two records based on descending order for Cholestrol are:\\n\", \n",
    "female_records.sort_values(by='Cholesterol_Levels_(mg_dL)',ascending=False).head(2))"
   ]
  },
  {
   "cell_type": "markdown",
   "id": "e106be7f-806f-4704-9ae9-8654aff1db3b",
   "metadata": {},
   "source": [
    "## Filtering Data Based on condition"
   ]
  },
  {
   "cell_type": "code",
   "execution_count": 37,
   "id": "bc4c15ec-3edf-40d2-85d9-b0fe21512842",
   "metadata": {},
   "outputs": [
    {
     "name": "stdout",
     "output_type": "stream",
     "text": [
      "Displaying rows of selected columns: \n",
      " 1        No\n",
      "2       Yes\n",
      "3       Yes\n",
      "4        No\n",
      "8        No\n",
      "       ... \n",
      "9988     No\n",
      "9992     No\n",
      "9994     No\n",
      "9995     No\n",
      "9996     No\n",
      "Name: Heart_Attack_Likelihood, Length: 2967, dtype: object\n"
     ]
    }
   ],
   "source": [
    " print (\"Displaying rows of selected columns: \\n\", \n",
    "data.loc[data['Smoking_Status'] =='Occasionally','Heart_Attack_Likelihood'])"
   ]
  },
  {
   "cell_type": "code",
   "execution_count": 40,
   "id": "622226c0-b4a8-4d5a-9416-8711a55772ee",
   "metadata": {},
   "outputs": [
    {
     "name": "stdout",
     "output_type": "stream",
     "text": [
      "Displaying rows age between 24 and 40:\n",
      "       Cholesterol_Levels_(mg_dL) Heart_Attack_Likelihood\n",
      "0                            148                      No\n",
      "3                            137                     Yes\n",
      "6                            278                      No\n",
      "7                            254                      No\n",
      "9                            268                      No\n",
      "...                          ...                     ...\n",
      "9993                         296                      No\n",
      "9995                         141                      No\n",
      "9996                         188                      No\n",
      "9997                         221                      No\n",
      "9999                         129                      No\n",
      "\n",
      "[6187 rows x 2 columns]\n"
     ]
    }
   ],
   "source": [
    "print (\"Displaying rows age between 24 and 40:\\n\", \n",
    "data.loc[(data['Age']>24) & (data['Age']<= 40), ['Cholesterol_Levels_(mg_dL)', 'Heart_Attack_Likelihood']])\n"
   ]
  },
  {
   "cell_type": "markdown",
   "id": "b13cf544-fbf5-41c3-8a19-c3df17fb828d",
   "metadata": {},
   "source": [
    "## Group by Functionality"
   ]
  },
  {
   "cell_type": "markdown",
   "id": "d960045f-b935-4955-960c-cbc600bec3e7",
   "metadata": {},
   "source": [
    "An important feature of data frame is the use of “groupby()” function which is used to group\n",
    " the observations on the basis of a variable.\n",
    " It should be noted that grouping of observations can be done only on the basis of\n",
    " categorical variable and aggregate functions like max(), mean(), median(), min(), sum(),\n",
    " count() on any of the continuous/categorical variable in the dataset."
   ]
  },
  {
   "cell_type": "markdown",
   "id": "f7a8a259-b988-4e2c-8e8d-d5dea5461d00",
   "metadata": {},
   "source": [
    "### Grouping on basis of \"Gender\" and using size() function for \"Heart Attack Likelihood\"."
   ]
  },
  {
   "cell_type": "code",
   "execution_count": 18,
   "id": "262bddaa-a8da-4f37-a5bb-2cdb364fa968",
   "metadata": {},
   "outputs": [],
   "source": [
    "result=data[['Heart_Attack_Likelihood','Gender']].groupby([\n",
    "    'Heart_Attack_Likelihood','Gender']).size()"
   ]
  },
  {
   "cell_type": "code",
   "execution_count": 61,
   "id": "67ca83ff-e7fa-4fb3-bee7-48c2ed72ba7a",
   "metadata": {},
   "outputs": [
    {
     "data": {
      "text/plain": [
       "Heart_Attack_Likelihood  Gender\n",
       "No                       Female    3910\n",
       "                         Male      3865\n",
       "                         Other      187\n",
       "Yes                      Female     946\n",
       "                         Male      1048\n",
       "                         Other       44\n",
       "dtype: int64"
      ]
     },
     "execution_count": 61,
     "metadata": {},
     "output_type": "execute_result"
    }
   ],
   "source": [
    "result"
   ]
  },
  {
   "cell_type": "markdown",
   "id": "a43d2f9b-d5f5-48c6-893a-c7cdda4c08f1",
   "metadata": {},
   "source": [
    "## Aggregating values with agg function"
   ]
  },
  {
   "cell_type": "code",
   "execution_count": 19,
   "id": "4926c45b-9032-496c-83d6-11d188292f83",
   "metadata": {},
   "outputs": [
    {
     "name": "stdout",
     "output_type": "stream",
     "text": [
      "                         Average_age  avg_cholestrol  avg_screen_time\n",
      "Heart_Attack_Likelihood                                              \n",
      "No                         26.631374      199.670183         7.529264\n",
      "Yes                        26.484789      199.566241         7.438175\n"
     ]
    }
   ],
   "source": [
    "aggregated_data = data.groupby(['Heart_Attack_Likelihood']).agg(\n",
    "    Average_age=('Age', 'mean'),\n",
    "    avg_cholestrol=('Cholesterol_Levels_(mg_dL)', 'mean'),\n",
    "    avg_screen_time=('Screen_Time_(hrs_day)', 'mean')\n",
    ")\n",
    "\n",
    "print(aggregated_data)"
   ]
  },
  {
   "cell_type": "code",
   "execution_count": null,
   "id": "3acfb6f4-7ed4-40de-8fa1-bdb64f8dc08a",
   "metadata": {},
   "outputs": [],
   "source": []
  }
 ],
 "metadata": {
  "kernelspec": {
   "display_name": "Python 3 (ipykernel)",
   "language": "python",
   "name": "python3"
  },
  "language_info": {
   "codemirror_mode": {
    "name": "ipython",
    "version": 3
   },
   "file_extension": ".py",
   "mimetype": "text/x-python",
   "name": "python",
   "nbconvert_exporter": "python",
   "pygments_lexer": "ipython3",
   "version": "3.12.0"
  }
 },
 "nbformat": 4,
 "nbformat_minor": 5
}
