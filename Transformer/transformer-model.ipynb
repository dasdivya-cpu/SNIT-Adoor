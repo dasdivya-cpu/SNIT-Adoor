{
 "cells": [
  {
   "cell_type": "code",
   "execution_count": 1,
   "id": "fae00f3b-eef1-44d1-9849-d4094c58368a",
   "metadata": {},
   "outputs": [],
   "source": [
    "from transformers import pipeline"
   ]
  },
  {
   "cell_type": "code",
   "execution_count": 2,
   "id": "20c7ad38-d4cf-496d-b6e5-92c26d6e84f8",
   "metadata": {},
   "outputs": [
    {
     "name": "stdout",
     "output_type": "stream",
     "text": [
      "WARNING:tensorflow:From C:\\Users\\CDAC\\AppData\\Local\\Programs\\Python\\Python312\\Lib\\site-packages\\tf_keras\\src\\losses.py:2976: The name tf.losses.sparse_softmax_cross_entropy is deprecated. Please use tf.compat.v1.losses.sparse_softmax_cross_entropy instead.\n",
      "\n"
     ]
    },
    {
     "name": "stderr",
     "output_type": "stream",
     "text": [
      "Fast image processor class <class 'transformers.models.vit.image_processing_vit_fast.ViTImageProcessorFast'> is available for this model. Using slow image processor class. To use the fast image processor class set `use_fast=True`.\n",
      "Device set to use cuda:0\n"
     ]
    }
   ],
   "source": [
    "vision_classifier = pipeline(model=\"google/vit-base-patch16-224\")"
   ]
  },
  {
   "cell_type": "code",
   "execution_count": 3,
   "id": "a21a6be0-45f5-4b08-9c2c-f20bf5cec36a",
   "metadata": {},
   "outputs": [],
   "source": [
    "preds = vision_classifier('kitten.jpeg')"
   ]
  },
  {
   "cell_type": "code",
   "execution_count": 4,
   "id": "0c269cf7-e335-4e95-b741-fab57ff7a746",
   "metadata": {},
   "outputs": [
    {
     "data": {
      "text/plain": [
       "[{'label': 'bow tie, bow-tie, bowtie', 'score': 0.6078431010246277},\n",
       " {'label': 'Egyptian cat', 'score': 0.13775494694709778},\n",
       " {'label': 'Siamese cat, Siamese', 'score': 0.0176705252379179},\n",
       " {'label': 'toy terrier', 'score': 0.017075512558221817},\n",
       " {'label': 'Chihuahua', 'score': 0.013322757557034492}]"
      ]
     },
     "execution_count": 4,
     "metadata": {},
     "output_type": "execute_result"
    }
   ],
   "source": [
    "preds"
   ]
  },
  {
   "cell_type": "code",
   "execution_count": null,
   "id": "f2357138-1e26-4b83-b6d6-213db2524f24",
   "metadata": {},
   "outputs": [],
   "source": []
  }
 ],
 "metadata": {
  "kernelspec": {
   "display_name": "Python 3 (ipykernel)",
   "language": "python",
   "name": "python3"
  },
  "language_info": {
   "codemirror_mode": {
    "name": "ipython",
    "version": 3
   },
   "file_extension": ".py",
   "mimetype": "text/x-python",
   "name": "python",
   "nbconvert_exporter": "python",
   "pygments_lexer": "ipython3",
   "version": "3.12.0"
  }
 },
 "nbformat": 4,
 "nbformat_minor": 5
}
